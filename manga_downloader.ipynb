{
 "cells": [
  {
   "cell_type": "markdown",
   "id": "021b327c-cb34-4c00-bf07-669842faee0f",
   "metadata": {},
   "source": [
    "## Manga Downloader\n",
    "This is a code snippet to scrape images from website and compile them into pdfs.\n",
    "How images could be scraped and saved could be found <a href=\"https://stackoverflow.com/questions/34692009/download-image-from-url-using-python-urllib-but-receiving-http-error-403-forbid\">here</a>."
   ]
  },
  {
   "cell_type": "code",
   "execution_count": null,
   "id": "ea75a077-d56f-44bc-a5da-904c57719bc3",
   "metadata": {},
   "outputs": [],
   "source": [
    "import requests\n",
    "import shutil\n",
    "import os\n",
    "import img2pdf\n",
    "\n",
    "current_dir = os.getcwd()\n",
    "\n",
    "if not (os.path.isdir(\"./PDFs\")): # folder to store all pdfs\n",
    "        os.mkdir(\"./PDFs\") \n",
    "\n",
    "def numToNdigit(n,N):\n",
    "    # N is always greater than number of digits in n\n",
    "    l = len(str(n))\n",
    "    ans = \"0\"*(N-l)\n",
    "    ans += str(n)\n",
    "    return ans\n",
    "\n",
    "base_url = \"https://official-complete-2.eorzea.us/manga/Toukyou-Kushu/\"\n",
    "\n",
    "for chapter in range(111,144):\n",
    "    chapter_name = numToNdigit(chapter,4) # XXXX\n",
    "    directory_name = \"./\"+chapter_name # ./XXXX\n",
    "    \n",
    "    # create folder to store images of chapter\n",
    "    if not (os.path.isdir(directory_name)):\n",
    "        os.mkdir(chapter_name)\n",
    "    \n",
    "    for page in range(1,60):\n",
    "        page_name = numToNdigit(page,3) # XXX\n",
    "        request_url = base_url+chapter_name+\"-\"+page_name+\".png\"\n",
    "        r = requests.get(request_url, stream=True)\n",
    "        if r.status_code == 200:\n",
    "            file_name = directory_name+\"/\"+page_name+\".png\"\n",
    "            with open(file_name, 'wb') as f:\n",
    "                r.raw.decode_content = True\n",
    "                shutil.copyfileobj(r.raw, f)\n",
    "    \n",
    "    # compile images to pdf\n",
    "    os.chdir(directory_name)\n",
    "    images = os.listdir(\"./\")\n",
    "    images.sort()\n",
    "    with open(current_dir+\"/PDFs/\"+chapter_name+\".pdf\",\"wb\") as f:\n",
    "        f.write(img2pdf.convert(images))\n",
    "    os.chdir(current_dir)\n",
    "    \n",
    "    print(f\"Chapter {chapter} completed...\")"
   ]
  },
  {
   "cell_type": "markdown",
   "id": "44cc9252-ff7b-476e-b566-2d3281be8f8f",
   "metadata": {},
   "source": [
    "### With Mulitprocessing"
   ]
  },
  {
   "cell_type": "code",
   "execution_count": 16,
   "id": "015e9216-cb2f-4973-a938-4ae31d7286f2",
   "metadata": {},
   "outputs": [
    {
     "name": "stdout",
     "output_type": "stream",
     "text": [
      "Current Directory: /Users/vivekverma/Desktop/MangaDownloader/TokyoRevengers/TokyoRevengers\n",
      "[216, 217, 218, 219, 220, 221, 222, 223, 224, 225, 226, 227, 228, 229, 230, 231, 232, 233, 234, 235, 236, 237, 238, 239, 240, 241, 242, 243, 244, 245, 246, 247, 248, 249, 250, 251, 252, 253, 254]\n"
     ]
    }
   ],
   "source": [
    "import os\n",
    "import utils\n",
    "from multiprocessing import Pool\n",
    "from itertools import repeat\n",
    "\n",
    "folderName = \"TokyoRevengers\"\n",
    "\n",
    "# current_dir = os.getcwd()\n",
    "# print(current_dir)\n",
    "\n",
    "if not (os.path.isdir(f\"./{folderName}\")): # folder to store all pdfs\n",
    "        os.mkdir(f\"./{folderName}\") \n",
    "os.chdir(f\"./{folderName}\")\n",
    "current_dir = os.getcwd()\n",
    "print(f\"Current Directory: {current_dir}\")\n",
    "\n",
    "# base_url = \"https://official-ongoing-1.ivalice.us/manga/Tokyo-Revengers/\"\n",
    "base_url = \"https://scans-ongoing-1.lastation.us/manga/Tokyo-Revengers/\"\n",
    "\n",
    "start = 216 # starting chapter number\n",
    "end = 254 # ending chapter number\n",
    "\n",
    "chapters = [i for i in range(start, end+1)]\n",
    "\n",
    "if __name__ == '__main__':\n",
    "    with Pool(10) as p:\n",
    "        print(p.starmap(utils.downloadChapter, zip(repeat(base_url),repeat(current_dir), chapters)))\n",
    "\n",
    "os.chdir(\"../\")"
   ]
  }
 ],
 "metadata": {
  "kernelspec": {
   "display_name": "Python 3",
   "language": "python",
   "name": "python3"
  },
  "language_info": {
   "codemirror_mode": {
    "name": "ipython",
    "version": 3
   },
   "file_extension": ".py",
   "mimetype": "text/x-python",
   "name": "python",
   "nbconvert_exporter": "python",
   "pygments_lexer": "ipython3",
   "version": "3.8.8"
  }
 },
 "nbformat": 4,
 "nbformat_minor": 5
}
